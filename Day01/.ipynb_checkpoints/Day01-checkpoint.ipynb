{
 "cells": [
  {
   "cell_type": "markdown",
   "id": "05a17cb7-e331-4183-b205-37e75b05dd5a",
   "metadata": {
    "tags": []
   },
   "source": [
    "# IMPORTS"
   ]
  },
  {
   "cell_type": "code",
   "execution_count": 12,
   "id": "0d567749-e882-4169-b8b6-555060516c93",
   "metadata": {
    "tags": []
   },
   "outputs": [],
   "source": [
    "import pandas as pd\n",
    "import numpy as np"
   ]
  },
  {
   "cell_type": "markdown",
   "id": "45d66869-af49-4b3a-802e-c280a7387b53",
   "metadata": {},
   "source": [
    "# Set up Elf Class"
   ]
  },
  {
   "cell_type": "code",
   "execution_count": 57,
   "id": "70992862-d30d-4cef-af5b-41ce0cc17455",
   "metadata": {},
   "outputs": [],
   "source": [
    "class Elf:\n",
    "    def __init__(self):\n",
    "        #print(\"A new Elf appears!\")\n",
    "        self.food = []\n",
    "        self.calories = 0\n",
    "        \n",
    "    \n",
    "    def add_food(self, newFood):\n",
    "        inCals = int(newFood)\n",
    "        self.food.append(inCals)\n",
    "        self.calories += inCals\n",
    "        #print(f\"Yum! IN: {inCals} TOT: {self.calories}\")"
   ]
  },
  {
   "cell_type": "markdown",
   "id": "c8e89e3a-7aef-4abc-afd1-c6fa76e158ad",
   "metadata": {},
   "source": [
    "# Read Data File"
   ]
  },
  {
   "cell_type": "code",
   "execution_count": 65,
   "id": "6494212c-8147-40c9-87b5-3952f3b6f7ec",
   "metadata": {},
   "outputs": [],
   "source": [
    "elves = []\n",
    "numElf = 0\n",
    "currElf = Elf()\n",
    "elves.append(currElf)\n",
    "\n",
    "with open('Day01/data.txt') as infile:\n",
    "    for line in infile:\n",
    "        if line.strip() != \"\":\n",
    "            currElf.add_food(line.strip())\n",
    "            \n",
    "        else:\n",
    "            currElf = Elf()\n",
    "            elves.append(currElf)\n",
    "\n",
    "df = pd.DataFrame({\"calories\":[c.calories for c in elves]})"
   ]
  },
  {
   "cell_type": "markdown",
   "id": "05369c46-4573-45f4-abc2-1735b1bb6b51",
   "metadata": {
    "tags": []
   },
   "source": [
    "# Part 1 Solution:"
   ]
  },
  {
   "cell_type": "code",
   "execution_count": 66,
   "id": "b9e636b1-b39d-4598-9d07-2901944b3082",
   "metadata": {},
   "outputs": [
    {
     "data": {
      "text/plain": [
       "calories    68442\n",
       "dtype: int64"
      ]
     },
     "execution_count": 66,
     "metadata": {},
     "output_type": "execute_result"
    }
   ],
   "source": [
    "df.max()"
   ]
  },
  {
   "cell_type": "markdown",
   "id": "0a613e3f-791d-4da0-8fb0-a3a2149c241d",
   "metadata": {
    "jp-MarkdownHeadingCollapsed": true,
    "tags": []
   },
   "source": [
    "# Part 2 Solution:"
   ]
  },
  {
   "cell_type": "code",
   "execution_count": 68,
   "id": "432ae9a3-0976-482e-a08e-173a1044f1d8",
   "metadata": {},
   "outputs": [
    {
     "data": {
      "text/plain": [
       "calories    204837\n",
       "dtype: int64"
      ]
     },
     "execution_count": 68,
     "metadata": {},
     "output_type": "execute_result"
    }
   ],
   "source": [
    "df.nlargest(3, 'calories').sum()"
   ]
  }
 ],
 "metadata": {
  "kernelspec": {
   "display_name": "Python 3 (ipykernel)",
   "language": "python",
   "name": "python3"
  },
  "language_info": {
   "codemirror_mode": {
    "name": "ipython",
    "version": 3
   },
   "file_extension": ".py",
   "mimetype": "text/x-python",
   "name": "python",
   "nbconvert_exporter": "python",
   "pygments_lexer": "ipython3",
   "version": "3.10.6"
  }
 },
 "nbformat": 4,
 "nbformat_minor": 5
}
