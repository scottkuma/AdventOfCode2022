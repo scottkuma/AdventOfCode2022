{
 "cells": [
  {
   "cell_type": "raw",
   "id": "8f22de0b-7e56-4423-a703-849028399b13",
   "metadata": {},
   "source": [
    "--- Day 2: Rock Paper Scissors ---\n",
    "The Elves begin to set up camp on the beach. To decide whose tent gets to be closest to the snack storage, a giant Rock Paper Scissors tournament is already in progress.\n",
    "\n",
    "Rock Paper Scissors is a game between two players. Each game contains many rounds; in each round, the players each simultaneously choose one of Rock, Paper, or Scissors using a hand shape. Then, a winner for that round is selected: Rock defeats Scissors, Scissors defeats Paper, and Paper defeats Rock. If both players choose the same shape, the round instead ends in a draw.\n",
    "\n",
    "Appreciative of your help yesterday, one Elf gives you an encrypted strategy guide (your puzzle input) that they say will be sure to help you win. \"The first column is what your opponent is going to play: A for Rock, B for Paper, and C for Scissors. The second column--\" Suddenly, the Elf is called away to help with someone's tent.\n",
    "\n",
    "The second column, you reason, must be what you should play in response: X for Rock, Y for Paper, and Z for Scissors. Winning every time would be suspicious, so the responses must have been carefully chosen.\n",
    "\n",
    "The winner of the whole tournament is the player with the highest score. Your total score is the sum of your scores for each round. The score for a single round is the score for the shape you selected (1 for Rock, 2 for Paper, and 3 for Scissors) plus the score for the outcome of the round (0 if you lost, 3 if the round was a draw, and 6 if you won).\n",
    "\n",
    "Since you can't be sure if the Elf is trying to help you or trick you, you should calculate the score you would get if you were to follow the strategy guide.\n",
    "\n",
    "For example, suppose you were given the following strategy guide:\n",
    "\n",
    "A Y\n",
    "B X\n",
    "C Z\n",
    "This strategy guide predicts and recommends the following:\n",
    "\n",
    "In the first round, your opponent will choose Rock (A), and you should choose Paper (Y). This ends in a win for you with a score of 8 (2 because you chose Paper + 6 because you won).\n",
    "In the second round, your opponent will choose Paper (B), and you should choose Rock (X). This ends in a loss for you with a score of 1 (1 + 0).\n",
    "The third round is a draw with both players choosing Scissors, giving you a score of 3 + 3 = 6.\n",
    "In this example, if you were to follow the strategy guide, you would get a total score of 15 (8 + 1 + 6).\n",
    "\n",
    "What would your total score be if everything goes exactly according to your strategy guide?"
   ]
  },
  {
   "cell_type": "code",
   "execution_count": 1,
   "id": "cbc20998-0520-4e5b-abe3-ac238a636a1c",
   "metadata": {},
   "outputs": [],
   "source": [
    "import pandas as pd\n",
    "import numpy as np"
   ]
  },
  {
   "cell_type": "code",
   "execution_count": 2,
   "id": "4356b17d-9afc-4efd-8e8b-17fe93f4b4b8",
   "metadata": {},
   "outputs": [],
   "source": [
    "class Shape:\n",
    "    def __init__(self, name, beats, losesTo, points):\n",
    "        self.name = name\n",
    "        self.beats = beats\n",
    "        self.losesTo = losesTo\n",
    "        self.points = points\n",
    "    \n",
    "    #def __repr__(self):\n",
    "    #    return self.name\n",
    "        \n",
    "    def points_against(self,shape_name):\n",
    "        #print(f\"'{self.name}' vs. '{shape_name}'\")\n",
    "        if shape_name in self.beats:\n",
    "            return (6 + self.points)\n",
    "        elif shape_name == self.name:\n",
    "            return (3 + self.points)\n",
    "        else:\n",
    "            return (self.points)\n",
    "        \n",
    "    \n",
    "    def get_response(self,outcome):\n",
    "        if outcome == 'X':\n",
    "            return self.beats[0]\n",
    "        elif outcome == 'Y':\n",
    "            return self.name\n",
    "        else:\n",
    "            return self.losesTo[0]\n",
    "\n",
    "my_shapes = {}\n",
    "opp_shapes = {}\n",
    "\n",
    "opp_shapes['A'] = Shape(\"ROCK\", [\"SCISSORS\"], [\"PAPER\"], 1)\n",
    "my_shapes['X'] = opp_shapes['A']\n",
    "\n",
    "opp_shapes['B'] = Shape(\"PAPER\", [\"ROCK\"], [\"SCISSORS\"], 2)\n",
    "my_shapes['Y'] = opp_shapes['B']\n",
    "\n",
    "opp_shapes['C'] = Shape(\"SCISSORS\", [\"PAPER\"], [\"ROCK\"], 3)\n",
    "my_shapes['Z'] = opp_shapes['C']\n",
    "\n",
    "        \n",
    "    "
   ]
  },
  {
   "cell_type": "markdown",
   "id": "15e6038a-d22a-4083-af5b-5822e06bf166",
   "metadata": {},
   "source": [
    "# Part 1 Solution"
   ]
  },
  {
   "cell_type": "code",
   "execution_count": 3,
   "id": "8256d28a-8034-4309-b35c-d27929987cc9",
   "metadata": {},
   "outputs": [
    {
     "name": "stdout",
     "output_type": "stream",
     "text": [
      "13682\n"
     ]
    }
   ],
   "source": [
    "opp_shapes['A'] = Shape(\"ROCK\", [\"SCISSORS\"], [\"PAPER\"], 1)\n",
    "my_shapes['X'] = opp_shapes['A']\n",
    "\n",
    "opp_shapes['B'] = Shape(\"PAPER\", [\"ROCK\"], [\"SCISSORS\"], 2)\n",
    "my_shapes['Y'] = opp_shapes['B']\n",
    "\n",
    "opp_shapes['C'] = Shape(\"SCISSORS\", [\"PAPER\"], [\"ROCK\"], 3)\n",
    "my_shapes['Z'] = opp_shapes['C']\n",
    "\n",
    "df = pd.read_csv('strat_guide.txt',sep=' ',header=None, names=['Opp','Me'])\n",
    "my_points = 0\n",
    "for index, row in df.iterrows():\n",
    "    my_points += my_shapes[row['Me']].points_against(opp_shapes[row['Opp']].name)\n",
    "print(my_points)"
   ]
  },
  {
   "cell_type": "raw",
   "id": "b98be756-fd61-45db-91f2-a4ec0666a0c1",
   "metadata": {},
   "source": [
    "--- Part Two ---\n",
    "The Elf finishes helping with the tent and sneaks back over to you. \"Anyway, the second column says how the round needs to end: X means you need to lose, Y means you need to end the round in a draw, and Z means you need to win. Good luck!\"\n",
    "\n",
    "The total score is still calculated in the same way, but now you need to figure out what shape to choose so the round ends as indicated. The example above now goes like this:\n",
    "\n",
    "In the first round, your opponent will choose Rock (A), and you need the round to end in a draw (Y), so you also choose Rock. This gives you a score of 1 + 3 = 4.\n",
    "In the second round, your opponent will choose Paper (B), and you choose Rock so you lose (X) with a score of 1 + 0 = 1.\n",
    "In the third round, you will defeat your opponent's Scissors with Rock for a score of 1 + 6 = 7.\n",
    "Now that you're correctly decrypting the ultra top secret strategy guide, you would get a total score of 12.\n",
    "\n",
    "Following the Elf's instructions for the second column, what would your total score be if everything goes exactly according to your strategy guide?"
   ]
  },
  {
   "cell_type": "markdown",
   "id": "fd7dbb67-8efe-433a-84d0-a87282007467",
   "metadata": {},
   "source": [
    "# Part 2 Solution"
   ]
  },
  {
   "cell_type": "code",
   "execution_count": 5,
   "id": "f4677b24-ca96-4a8d-b6fb-7d8e02e8fe5d",
   "metadata": {},
   "outputs": [
    {
     "name": "stdout",
     "output_type": "stream",
     "text": [
      "\n",
      "\n",
      "\n",
      "Total Points: 12881\n"
     ]
    }
   ],
   "source": [
    "opp_shapes['A'] = Shape(\"ROCK\", [\"SCISSORS\"], [\"PAPER\"], 1)\n",
    "my_shapes['ROCK'] = opp_shapes['A']\n",
    "\n",
    "opp_shapes['B'] = Shape(\"PAPER\", [\"ROCK\"], [\"SCISSORS\"], 2)\n",
    "my_shapes['PAPER'] = opp_shapes['B']\n",
    "\n",
    "opp_shapes['C'] = Shape(\"SCISSORS\", [\"PAPER\"], [\"ROCK\"], 3)\n",
    "my_shapes['SCISSORS'] = opp_shapes['C']\n",
    "\n",
    "df = pd.read_csv('strat_guide.txt',sep=' ',header=None, names=['Opp','Desired Outcome'])\n",
    "\n",
    "outcome = {\"X\":\"Loses to\", \"Y\":\"Draws with\", \"Z\":\"Beats\"}\n",
    "\n",
    "my_points = 0\n",
    "for index, row in df.iterrows():\n",
    "    opp_play = opp_shapes[row['Opp']]\n",
    "    \n",
    "    my_play = opp_shapes[row['Opp']].get_response(row['Desired Outcome'])\n",
    "    points = my_shapes[my_play].points_against(opp_play.name)\n",
    "    \n",
    "    my_points += points\n",
    "\n",
    "print(\"\\n\\n\\nTotal Points:\", my_points)"
   ]
  },
  {
   "cell_type": "code",
   "execution_count": null,
   "id": "122d4e7a-176b-4599-b3d5-d4bcb088d260",
   "metadata": {},
   "outputs": [],
   "source": []
  }
 ],
 "metadata": {
  "kernelspec": {
   "display_name": "Python 3 (ipykernel)",
   "language": "python",
   "name": "python3"
  },
  "language_info": {
   "codemirror_mode": {
    "name": "ipython",
    "version": 3
   },
   "file_extension": ".py",
   "mimetype": "text/x-python",
   "name": "python",
   "nbconvert_exporter": "python",
   "pygments_lexer": "ipython3",
   "version": "3.10.6"
  }
 },
 "nbformat": 4,
 "nbformat_minor": 5
}
