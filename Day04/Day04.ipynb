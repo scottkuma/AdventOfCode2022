{
 "cells": [
  {
   "cell_type": "raw",
   "id": "d650c4e6-1e3c-4b31-817d-6a52faf25b86",
   "metadata": {},
   "source": [
    "--- Day 4: Camp Cleanup ---\n",
    "Space needs to be cleared before the last supplies can be unloaded from the ships, and so several Elves have been assigned the job of cleaning up sections of the camp. Every section has a unique ID number, and each Elf is assigned a range of section IDs.\n",
    "\n",
    "However, as some of the Elves compare their section assignments with each other, they've noticed that many of the assignments overlap. To try to quickly find overlaps and reduce duplicated effort, the Elves pair up and make a big list of the section assignments for each pair (your puzzle input).\n",
    "\n",
    "For example, consider the following list of section assignment pairs:\n",
    "\n",
    "2-4,6-8\n",
    "2-3,4-5\n",
    "5-7,7-9\n",
    "2-8,3-7\n",
    "6-6,4-6\n",
    "2-6,4-8\n",
    "For the first few pairs, this list means:\n",
    "\n",
    "Within the first pair of Elves, the first Elf was assigned sections 2-4 (sections 2, 3, and 4), while the second Elf was assigned sections 6-8 (sections 6, 7, 8).\n",
    "The Elves in the second pair were each assigned two sections.\n",
    "The Elves in the third pair were each assigned three sections: one got sections 5, 6, and 7, while the other also got 7, plus 8 and 9.\n",
    "This example list uses single-digit section IDs to make it easier to draw; your actual list might contain larger numbers. Visually, these pairs of section assignments look like this:\n",
    "\n",
    ".234.....  2-4\n",
    ".....678.  6-8\n",
    "\n",
    ".23......  2-3\n",
    "...45....  4-5\n",
    "\n",
    "....567..  5-7\n",
    "......789  7-9\n",
    "\n",
    ".2345678.  2-8\n",
    "..34567..  3-7\n",
    "\n",
    ".....6...  6-6\n",
    "...456...  4-6\n",
    "\n",
    ".23456...  2-6\n",
    "...45678.  4-8\n",
    "Some of the pairs have noticed that one of their assignments fully contains the other. For example, 2-8 fully contains 3-7, and 6-6 is fully contained by 4-6. In pairs where one assignment fully contains the other, one Elf in the pair would be exclusively cleaning sections their partner will already be cleaning, so these seem like the most in need of reconsideration. In this example, there are 2 such pairs.\n",
    "\n",
    "In how many assignment pairs does one range fully contain the other?\n",
    "\n",
    "To begin, get your puzzle input.\n",
    "\n"
   ]
  },
  {
   "cell_type": "code",
   "execution_count": 59,
   "id": "8c329f84-ca99-4dce-983b-41e9f75fe026",
   "metadata": {},
   "outputs": [],
   "source": [
    "import pandas as pd\n",
    "import numpy as np\n",
    "\n",
    "df = pd.read_csv('pairs.txt',header=None,names=['P1','P2'])\n"
   ]
  },
  {
   "cell_type": "markdown",
   "id": "3070be8c-91bd-49fa-ab86-167e5b5cf9c2",
   "metadata": {},
   "source": [
    "# Part 1 Solution"
   ]
  },
  {
   "cell_type": "code",
   "execution_count": 55,
   "id": "58a74498-bf01-474d-a86c-7494b7ce75d6",
   "metadata": {},
   "outputs": [
    {
     "name": "stdout",
     "output_type": "stream",
     "text": [
      "462\n"
     ]
    }
   ],
   "source": [
    "completeOverlaps = 0\n",
    "for index, row in df.iterrows():\n",
    "    pair1 = [int(x) for x in row.P1.split('-')]\n",
    "    pair2 = [int(x) for x in row.P2.split('-')]\n",
    "    set1 = set(range(pair1[0], pair1[1]+1))\n",
    "    set2 = set(range(pair2[0], pair2[1]+1))\n",
    "    \n",
    "    if (set2 - set1) == set() or (set1 - set2) == set():\n",
    "        completeOverlaps += 1\n",
    "        #print(pair1, pair2, \"YES\", completeOverlaps)\n",
    "        \n",
    "    else:\n",
    "        #print(pair1, pair2, \"NO\")\n",
    "        pass\n",
    "    \n",
    "print(completeOverlaps)"
   ]
  },
  {
   "cell_type": "raw",
   "id": "0a427856-ed4a-4ac9-a165-9dc6b1f6b0e8",
   "metadata": {},
   "source": [
    "--- Part Two ---\n",
    "\n",
    "It seems like there is still quite a bit of duplicate work planned. Instead, the Elves would like to know the number of pairs that overlap at all.\n",
    "\n",
    "In the above example, the first two pairs (2-4,6-8 and 2-3,4-5) don't overlap, while the remaining four pairs (5-7,7-9, 2-8,3-7, 6-6,4-6, and 2-6,4-8) do overlap:\n",
    "\n",
    "    5-7,7-9 overlaps in a single section, 7.\n",
    "    2-8,3-7 overlaps all of the sections 3 through 7.\n",
    "    6-6,4-6 overlaps in a single section, 6.\n",
    "    2-6,4-8 overlaps in sections 4, 5, and 6.\n",
    "\n",
    "So, in this example, the number of overlapping assignment pairs is 4.\n",
    "\n",
    "In how many assignment pairs do the ranges overlap?\n"
   ]
  },
  {
   "cell_type": "markdown",
   "id": "68564f4b-2454-4fff-8556-3c729f68a563",
   "metadata": {},
   "source": [
    "# Part 2 Solution"
   ]
  },
  {
   "cell_type": "code",
   "execution_count": 61,
   "id": "854585d1-75d2-441d-bd9b-79ba2d5ddea2",
   "metadata": {},
   "outputs": [
    {
     "name": "stdout",
     "output_type": "stream",
     "text": [
      "835\n"
     ]
    }
   ],
   "source": [
    "partialOverlaps = 0\n",
    "for index, row in df.iterrows():\n",
    "    pair1 = [int(x) for x in row.P1.split('-')]\n",
    "    pair2 = [int(x) for x in row.P2.split('-')]\n",
    "    set1 = set(range(pair1[0], pair1[1]+1))\n",
    "    set2 = set(range(pair2[0], pair2[1]+1))\n",
    "    \n",
    "    if set1 & set2 == set():\n",
    "        #print(pair1, pair2, \"NO\")\n",
    "        pass\n",
    "    else:\n",
    "        partialOverlaps += 1\n",
    "        #print(pair1, pair2, \"YES\", partialOverlaps)\n",
    "    \n",
    "print(partialOverlaps)"
   ]
  },
  {
   "cell_type": "code",
   "execution_count": null,
   "id": "139b5eed-f466-4e9f-956f-b69983a6df8e",
   "metadata": {},
   "outputs": [],
   "source": []
  }
 ],
 "metadata": {
  "kernelspec": {
   "display_name": "Python 3 (ipykernel)",
   "language": "python",
   "name": "python3"
  },
  "language_info": {
   "codemirror_mode": {
    "name": "ipython",
    "version": 3
   },
   "file_extension": ".py",
   "mimetype": "text/x-python",
   "name": "python",
   "nbconvert_exporter": "python",
   "pygments_lexer": "ipython3",
   "version": "3.10.6"
  }
 },
 "nbformat": 4,
 "nbformat_minor": 5
}
